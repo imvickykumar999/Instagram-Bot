{
 "cells": [
  {
   "cell_type": "code",
   "execution_count": null,
   "metadata": {},
   "outputs": [],
   "source": [
    "import shutil\n",
    "shutil.rmtree('config')"
   ]
  },
  {
   "cell_type": "code",
   "execution_count": null,
   "metadata": {},
   "outputs": [],
   "source": [
    "from instabot import Bot\n",
    "import getpass\n",
    "\n",
    "bot = Bot()\n",
    "\n",
    "user = '_____.___alone___._____'\n",
    "passwd = getpass.getpass('Enter Password : ')\n",
    "\n",
    "if_login = bot.login(username=user, password=passwd)\n",
    "if_login"
   ]
  },
  {
   "cell_type": "code",
   "execution_count": null,
   "metadata": {},
   "outputs": [],
   "source": [
    "from PIL import Image\n",
    "\n",
    "def make_square(im, min_size=256, fill_color=(255,255,255,0)):\n",
    "    x, y = im.size\n",
    "    size = max(min_size, x, y)\n",
    "    new_im = Image.new('RGB', (size, size), fill_color)\n",
    "    new_im.paste(im, (int((size - x) / 2), int((size - y) / 2)))\n",
    "    return new_im\n",
    "\n",
    "choose = 'himalayan.jpg'\n",
    "path = f'to_upload/{choose}'\n",
    "\n",
    "test_image = Image.open(path)\n",
    "new_image = make_square(test_image)\n",
    "\n",
    "path = 'to_upload/himalayan_squared.jpg'\n",
    "new_image.save(path)\n",
    "\n",
    "cap = '🔥This image is uploaded using python code ✨'\n",
    "if_up = bot.upload_photo(path, caption = cap)\n",
    "if_up"
   ]
  },
  {
   "cell_type": "code",
   "execution_count": null,
   "metadata": {},
   "outputs": [],
   "source": [
    "message = '''\n",
    "Hello friend.\n",
    "\n",
    "🔥...this message is sent using instabot library! ✨\n",
    "'''\n",
    "send_to = [\"imvickykumar999\"]\n",
    "\n",
    "if_sent = bot.send_message(message, send_to)\n",
    "if_sent"
   ]
  },
  {
   "cell_type": "code",
   "execution_count": null,
   "metadata": {},
   "outputs": [],
   "source": []
  }
 ],
 "metadata": {
  "kernelspec": {
   "display_name": "Python 3",
   "language": "python",
   "name": "python3"
  },
  "language_info": {
   "codemirror_mode": {
    "name": "ipython",
    "version": 3
   },
   "file_extension": ".py",
   "mimetype": "text/x-python",
   "name": "python",
   "nbconvert_exporter": "python",
   "pygments_lexer": "ipython3",
   "version": "3.8.3"
  }
 },
 "nbformat": 4,
 "nbformat_minor": 4
}
